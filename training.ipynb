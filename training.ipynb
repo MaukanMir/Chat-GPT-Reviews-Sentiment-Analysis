{
 "cells": [
  {
   "cell_type": "markdown",
   "metadata": {},
   "source": [
    "# Chat GPT Reviews Sentiment Analysis"
   ]
  },
  {
   "cell_type": "markdown",
   "metadata": {},
   "source": [
    "# Imports"
   ]
  },
  {
   "cell_type": "code",
   "execution_count": 1,
   "metadata": {},
   "outputs": [],
   "source": [
    "import pandas as pd\n",
    "import numpy as np\n",
    "import seaborn as sns\n",
    "import matplotlib.pyplot as plt"
   ]
  },
  {
   "cell_type": "markdown",
   "metadata": {},
   "source": [
    "# Functions"
   ]
  },
  {
   "cell_type": "code",
   "execution_count": 6,
   "metadata": {},
   "outputs": [],
   "source": [
    "def check_for_nulls(df):\n",
    "  print(f\"The Amount of Nulls:{df.isna().sum()}\")\n",
    "  print(f\"The Amount of Duplicates:{df.duplicated().sum()}\")\n",
    "\n",
    "def check_class_imbalance(target):\n",
    "  unique, counts = np.unique(target, return_counts=True)\n",
    "  plt.figure(figsize=(10, 7))\n",
    "  plt.pie(counts, labels=unique, autopct=\"%1.1f%%\", startangle=140)\n",
    "  plt.title(\"Target Class Breakdown\")\n",
    "  plt.show()\n",
    "  \n",
    "  plt.figure(figsize=(10, 7))\n",
    "  sns.countplot(x=target)\n",
    "  plt.title(\"Target Class Breakdown\")\n",
    "  plt.xlabel(\"Target Class\")\n",
    "  plt.ylabel(\"Counts\")\n",
    "  plt.xticks(rotation=45)\n",
    "  plt.show()"
   ]
  },
  {
   "cell_type": "markdown",
   "metadata": {},
   "source": [
    "# EDA Analysis"
   ]
  },
  {
   "cell_type": "code",
   "execution_count": 2,
   "metadata": {},
   "outputs": [
    {
     "data": {
      "text/html": [
       "<div>\n",
       "<style scoped>\n",
       "    .dataframe tbody tr th:only-of-type {\n",
       "        vertical-align: middle;\n",
       "    }\n",
       "\n",
       "    .dataframe tbody tr th {\n",
       "        vertical-align: top;\n",
       "    }\n",
       "\n",
       "    .dataframe thead th {\n",
       "        text-align: right;\n",
       "    }\n",
       "</style>\n",
       "<table border=\"1\" class=\"dataframe\">\n",
       "  <thead>\n",
       "    <tr style=\"text-align: right;\">\n",
       "      <th></th>\n",
       "      <th>reviewId</th>\n",
       "      <th>userName</th>\n",
       "      <th>content</th>\n",
       "      <th>score</th>\n",
       "      <th>thumbsUpCount</th>\n",
       "      <th>reviewCreatedVersion</th>\n",
       "      <th>at</th>\n",
       "      <th>appVersion</th>\n",
       "    </tr>\n",
       "  </thead>\n",
       "  <tbody>\n",
       "    <tr>\n",
       "      <th>0</th>\n",
       "      <td>26661c9c-2d79-4e19-a7a6-673da6af53f4</td>\n",
       "      <td>Luis Cabrera</td>\n",
       "      <td>magnific!</td>\n",
       "      <td>5</td>\n",
       "      <td>0</td>\n",
       "      <td>1.2024.139</td>\n",
       "      <td>2024-05-29 22:30:43</td>\n",
       "      <td>1.2024.139</td>\n",
       "    </tr>\n",
       "    <tr>\n",
       "      <th>1</th>\n",
       "      <td>08d6dd23-e74a-48a5-bab6-7cffa8920a4a</td>\n",
       "      <td>Betty Grayson</td>\n",
       "      <td>it helps me convince my parents to make a mine...</td>\n",
       "      <td>5</td>\n",
       "      <td>0</td>\n",
       "      <td>1.2024.139</td>\n",
       "      <td>2024-05-29 22:29:42</td>\n",
       "      <td>1.2024.139</td>\n",
       "    </tr>\n",
       "    <tr>\n",
       "      <th>2</th>\n",
       "      <td>eea7ed5c-b39a-4363-b298-69b6234d0a8a</td>\n",
       "      <td>Abigail Oniyide</td>\n",
       "      <td>This is the best app I've seen so far, has a l...</td>\n",
       "      <td>5</td>\n",
       "      <td>0</td>\n",
       "      <td>1.2024.131</td>\n",
       "      <td>2024-05-29 22:25:07</td>\n",
       "      <td>1.2024.131</td>\n",
       "    </tr>\n",
       "    <tr>\n",
       "      <th>3</th>\n",
       "      <td>b3cf6a61-c88a-4b44-9fec-eb223a1a5109</td>\n",
       "      <td>Sam McGrath</td>\n",
       "      <td>amazing!</td>\n",
       "      <td>5</td>\n",
       "      <td>0</td>\n",
       "      <td>1.2024.131</td>\n",
       "      <td>2024-05-29 22:23:30</td>\n",
       "      <td>1.2024.131</td>\n",
       "    </tr>\n",
       "    <tr>\n",
       "      <th>4</th>\n",
       "      <td>15a8fd47-0cf4-447a-a16e-845581e9a448</td>\n",
       "      <td>horii</td>\n",
       "      <td>İnanılmaz.</td>\n",
       "      <td>5</td>\n",
       "      <td>0</td>\n",
       "      <td>1.2024.139</td>\n",
       "      <td>2024-05-29 22:22:29</td>\n",
       "      <td>1.2024.139</td>\n",
       "    </tr>\n",
       "    <tr>\n",
       "      <th>...</th>\n",
       "      <td>...</td>\n",
       "      <td>...</td>\n",
       "      <td>...</td>\n",
       "      <td>...</td>\n",
       "      <td>...</td>\n",
       "      <td>...</td>\n",
       "      <td>...</td>\n",
       "      <td>...</td>\n",
       "    </tr>\n",
       "    <tr>\n",
       "      <th>14995</th>\n",
       "      <td>fe351276-2e54-4481-b86b-b66e6042ef9f</td>\n",
       "      <td>Thanojreddy Motakatla</td>\n",
       "      <td>very good and fast</td>\n",
       "      <td>5</td>\n",
       "      <td>0</td>\n",
       "      <td>1.2024.115</td>\n",
       "      <td>2024-05-17 03:27:37</td>\n",
       "      <td>1.2024.115</td>\n",
       "    </tr>\n",
       "    <tr>\n",
       "      <th>14996</th>\n",
       "      <td>e7c826e7-aade-4902-ae5b-40443286d49a</td>\n",
       "      <td>Prateek Kumar Debta</td>\n",
       "      <td>this app is very good option for children adul...</td>\n",
       "      <td>5</td>\n",
       "      <td>0</td>\n",
       "      <td>1.2024.131</td>\n",
       "      <td>2024-05-17 03:26:50</td>\n",
       "      <td>1.2024.131</td>\n",
       "    </tr>\n",
       "    <tr>\n",
       "      <th>14997</th>\n",
       "      <td>4e80301b-e1ea-4a81-9057-30e197895722</td>\n",
       "      <td>Akhasan2002 Love</td>\n",
       "      <td>good</td>\n",
       "      <td>3</td>\n",
       "      <td>0</td>\n",
       "      <td>1.2024.115</td>\n",
       "      <td>2024-05-17 03:26:49</td>\n",
       "      <td>1.2024.115</td>\n",
       "    </tr>\n",
       "    <tr>\n",
       "      <th>14998</th>\n",
       "      <td>ebd0836f-d315-40ba-aa07-8bdbb87d64ad</td>\n",
       "      <td>saphaung klein</td>\n",
       "      <td>Great</td>\n",
       "      <td>5</td>\n",
       "      <td>0</td>\n",
       "      <td>1.2024.131</td>\n",
       "      <td>2024-05-17 03:26:13</td>\n",
       "      <td>1.2024.131</td>\n",
       "    </tr>\n",
       "    <tr>\n",
       "      <th>14999</th>\n",
       "      <td>82cc549d-2c2d-4f1e-8be0-9f0ea8acc77c</td>\n",
       "      <td>MR Vedha</td>\n",
       "      <td>nice app and i am enjoying it</td>\n",
       "      <td>5</td>\n",
       "      <td>0</td>\n",
       "      <td>1.2024.131</td>\n",
       "      <td>2024-05-17 03:25:43</td>\n",
       "      <td>1.2024.131</td>\n",
       "    </tr>\n",
       "  </tbody>\n",
       "</table>\n",
       "<p>15000 rows × 8 columns</p>\n",
       "</div>"
      ],
      "text/plain": [
       "                                   reviewId               userName  \\\n",
       "0      26661c9c-2d79-4e19-a7a6-673da6af53f4           Luis Cabrera   \n",
       "1      08d6dd23-e74a-48a5-bab6-7cffa8920a4a          Betty Grayson   \n",
       "2      eea7ed5c-b39a-4363-b298-69b6234d0a8a        Abigail Oniyide   \n",
       "3      b3cf6a61-c88a-4b44-9fec-eb223a1a5109            Sam McGrath   \n",
       "4      15a8fd47-0cf4-447a-a16e-845581e9a448                  horii   \n",
       "...                                     ...                    ...   \n",
       "14995  fe351276-2e54-4481-b86b-b66e6042ef9f  Thanojreddy Motakatla   \n",
       "14996  e7c826e7-aade-4902-ae5b-40443286d49a    Prateek Kumar Debta   \n",
       "14997  4e80301b-e1ea-4a81-9057-30e197895722       Akhasan2002 Love   \n",
       "14998  ebd0836f-d315-40ba-aa07-8bdbb87d64ad         saphaung klein   \n",
       "14999  82cc549d-2c2d-4f1e-8be0-9f0ea8acc77c               MR Vedha   \n",
       "\n",
       "                                                 content  score  \\\n",
       "0                                              magnific!      5   \n",
       "1      it helps me convince my parents to make a mine...      5   \n",
       "2      This is the best app I've seen so far, has a l...      5   \n",
       "3                                               amazing!      5   \n",
       "4                                             İnanılmaz.      5   \n",
       "...                                                  ...    ...   \n",
       "14995                                 very good and fast      5   \n",
       "14996  this app is very good option for children adul...      5   \n",
       "14997                                               good      3   \n",
       "14998                                              Great      5   \n",
       "14999                      nice app and i am enjoying it      5   \n",
       "\n",
       "       thumbsUpCount reviewCreatedVersion                   at  appVersion  \n",
       "0                  0           1.2024.139  2024-05-29 22:30:43  1.2024.139  \n",
       "1                  0           1.2024.139  2024-05-29 22:29:42  1.2024.139  \n",
       "2                  0           1.2024.131  2024-05-29 22:25:07  1.2024.131  \n",
       "3                  0           1.2024.131  2024-05-29 22:23:30  1.2024.131  \n",
       "4                  0           1.2024.139  2024-05-29 22:22:29  1.2024.139  \n",
       "...              ...                  ...                  ...         ...  \n",
       "14995              0           1.2024.115  2024-05-17 03:27:37  1.2024.115  \n",
       "14996              0           1.2024.131  2024-05-17 03:26:50  1.2024.131  \n",
       "14997              0           1.2024.115  2024-05-17 03:26:49  1.2024.115  \n",
       "14998              0           1.2024.131  2024-05-17 03:26:13  1.2024.131  \n",
       "14999              0           1.2024.131  2024-05-17 03:25:43  1.2024.131  \n",
       "\n",
       "[15000 rows x 8 columns]"
      ]
     },
     "execution_count": 2,
     "metadata": {},
     "output_type": "execute_result"
    }
   ],
   "source": [
    "df = pd.read_csv(\"/Users/maukanmir/Downloads/chatgpt_reviews.csv\", nrows=15000)\n",
    "df"
   ]
  },
  {
   "cell_type": "markdown",
   "metadata": {},
   "source": [
    "# Check For Nulls and Dupes"
   ]
  },
  {
   "cell_type": "code",
   "execution_count": 4,
   "metadata": {},
   "outputs": [
    {
     "name": "stdout",
     "output_type": "stream",
     "text": [
      "The Amount of Nulls:reviewId                  0\n",
      "userName                  0\n",
      "content                   0\n",
      "score                     0\n",
      "thumbsUpCount             0\n",
      "reviewCreatedVersion    787\n",
      "at                        0\n",
      "appVersion              787\n",
      "dtype: int64\n",
      "The Amount of Duplicates:1201\n"
     ]
    }
   ],
   "source": [
    "check_for_nulls(df)"
   ]
  },
  {
   "cell_type": "code",
   "execution_count": 5,
   "metadata": {},
   "outputs": [],
   "source": [
    "df.drop_duplicates(inplace=True)"
   ]
  },
  {
   "cell_type": "markdown",
   "metadata": {},
   "source": [
    "# Check for Class Imbalance"
   ]
  },
  {
   "cell_type": "code",
   "execution_count": 8,
   "metadata": {},
   "outputs": [
    {
     "data": {
      "image/png": "[encoded data removed]",
      "text/plain": [
       "<Figure size 1000x700 with 1 Axes>"
      ]
     },
     "metadata": {},
     "output_type": "display_data"
    },
    {
     "data": {
      "image/png": "[encoded data removed]",
      "text/plain": [
       "<Figure size 1000x700 with 1 Axes>"
      ]
     },
     "metadata": {},
     "output_type": "display_data"
    }
   ],
   "source": [
    "check_class_imbalance(df[\"score\"])"
   ]
  },
  {
   "cell_type": "markdown",
   "metadata": {},
   "source": [
    "# We have a severe class imbalance in our dataset."
   ]
  },
  {
   "cell_type": "markdown",
   "metadata": {},
   "source": [
    "# But people seem to love ChatGPT"
   ]
  },
  {
   "cell_type": "code",
   "execution_count": null,
   "metadata": {},
   "outputs": [],
   "source": []
  }
 ],
 "metadata": {
  "kernelspec": {
   "display_name": "machine-learning-env",
   "language": "python",
   "name": "python3"
  },
  "language_info": {
   "codemirror_mode": {
    "name": "ipython",
    "version": 3
   },
   "file_extension": ".py",
   "mimetype": "text/x-python",
   "name": "python",
   "nbconvert_exporter": "python",
   "pygments_lexer": "ipython3",
   "version": "3.9.19"
  }
 },
 "nbformat": 4,
 "nbformat_minor": 2
}
